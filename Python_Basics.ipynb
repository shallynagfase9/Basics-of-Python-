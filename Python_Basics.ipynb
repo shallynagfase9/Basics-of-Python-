{
  "nbformat": 4,
  "nbformat_minor": 0,
  "metadata": {
    "colab": {
      "provenance": [],
      "authorship_tag": "ABX9TyPKjucGLakqeFwWeZa8IFlk",
      "include_colab_link": true
    },
    "kernelspec": {
      "name": "python3",
      "display_name": "Python 3"
    },
    "language_info": {
      "name": "python"
    }
  },
  "cells": [
    {
      "cell_type": "markdown",
      "metadata": {
        "id": "view-in-github",
        "colab_type": "text"
      },
      "source": [
        "<a href=\"https://colab.research.google.com/github/shallynagfase9/shallynagfase/blob/main/Python_Basics.ipynb\" target=\"_parent\"><img src=\"https://colab.research.google.com/assets/colab-badge.svg\" alt=\"Open In Colab\"/></a>"
      ]
    },
    {
      "cell_type": "code",
      "execution_count": 2,
      "metadata": {
        "colab": {
          "base_uri": "https://localhost:8080/"
        },
        "id": "VoOtNs37fz9D",
        "outputId": "cd70b502-2b9d-4ccf-f5be-6f5074e93da3"
      },
      "outputs": [
        {
          "output_type": "stream",
          "name": "stdout",
          "text": [
            "The string is: Shally\n"
          ]
        }
      ],
      "source": [
        "# String\n",
        "string=\"Shally\"\n",
        "print(\"The string is:\",string)"
      ]
    },
    {
      "cell_type": "code",
      "source": [
        "# List\n",
        "list=[\"shally\",1,2,3,4,4.6,4+9j]\n",
        "print(\"The list is\",list)\n",
        "for i in list:\n",
        "  print(i)"
      ],
      "metadata": {
        "colab": {
          "base_uri": "https://localhost:8080/"
        },
        "id": "b59z-L1MgJLx",
        "outputId": "cbd45560-4290-4790-c970-c483f91b9cfc"
      },
      "execution_count": 3,
      "outputs": [
        {
          "output_type": "stream",
          "name": "stdout",
          "text": [
            "The list is ['shally', 1, 2, 3, 4, 4.6, (4+9j)]\n",
            "shally\n",
            "1\n",
            "2\n",
            "3\n",
            "4\n",
            "4.6\n",
            "(4+9j)\n"
          ]
        }
      ]
    },
    {
      "cell_type": "code",
      "source": [
        "# Float\n",
        "a = 4.5\n",
        "print(a)\n",
        "print(type(a))"
      ],
      "metadata": {
        "colab": {
          "base_uri": "https://localhost:8080/"
        },
        "id": "ZkST-VW9gfJP",
        "outputId": "5637c8f2-6f60-429d-f839-88411c16cdcf"
      },
      "execution_count": 4,
      "outputs": [
        {
          "output_type": "stream",
          "name": "stdout",
          "text": [
            "4.5\n",
            "<class 'float'>\n"
          ]
        }
      ]
    },
    {
      "cell_type": "code",
      "source": [
        "# Tuple\n",
        "t=(12,34,54,23,\"a\",\"b\")\n",
        "print(t)\n",
        "print(type(t))\n"
      ],
      "metadata": {
        "colab": {
          "base_uri": "https://localhost:8080/"
        },
        "id": "cVJg8-g3gvzB",
        "outputId": "1ea3babc-cb9d-4b21-927e-81663c88e3e5"
      },
      "execution_count": 5,
      "outputs": [
        {
          "output_type": "stream",
          "name": "stdout",
          "text": [
            "(12, 34, 54, 23, 'a', 'b')\n",
            "<class 'tuple'>\n"
          ]
        }
      ]
    },
    {
      "cell_type": "code",
      "source": [
        "# Find the type of the variable\n",
        "var1 = ' '\n",
        "print(type(var1))\n",
        "var2 = '[ DS , ML , Python]'\n",
        "print(type(var2))\n",
        "var3 = [ 'DS' , 'ML' , 'Python' ]\n",
        "print(type(var3))\n",
        "var4 = 1\n",
        "print(type(var4))"
      ],
      "metadata": {
        "colab": {
          "base_uri": "https://localhost:8080/"
        },
        "id": "KczFsOGEhPsW",
        "outputId": "fb7a97ba-92ae-4278-ec33-7f9e8f392714"
      },
      "execution_count": 7,
      "outputs": [
        {
          "output_type": "stream",
          "name": "stdout",
          "text": [
            "<class 'str'>\n",
            "<class 'str'>\n",
            "<class 'list'>\n",
            "<class 'int'>\n"
          ]
        }
      ]
    },
    {
      "cell_type": "code",
      "source": [
        "# / (Division Operator) Displays Quotient\n",
        "a=10\n",
        "b=2\n",
        "c=a/b\n",
        "print(c)"
      ],
      "metadata": {
        "colab": {
          "base_uri": "https://localhost:8080/"
        },
        "id": "hKjO_r7rh5dA",
        "outputId": "f758c449-497a-4c9c-9637-0718e05acb62"
      },
      "execution_count": 8,
      "outputs": [
        {
          "output_type": "stream",
          "name": "stdout",
          "text": [
            "5.0\n"
          ]
        }
      ]
    },
    {
      "cell_type": "code",
      "source": [
        "# % (Module Operator) Displays Remainder\n",
        "a=10\n",
        "b=2\n",
        "c=a%b\n",
        "print(c)"
      ],
      "metadata": {
        "colab": {
          "base_uri": "https://localhost:8080/"
        },
        "id": "ZXgceEyxiM61",
        "outputId": "f57af6b1-1762-4f64-906c-2450e0b03cf3"
      },
      "execution_count": 9,
      "outputs": [
        {
          "output_type": "stream",
          "name": "stdout",
          "text": [
            "0\n"
          ]
        }
      ]
    },
    {
      "cell_type": "code",
      "source": [
        "# // (Floor Division used for Integer Dvision)\n",
        "a=15\n",
        "b=3\n",
        "c=a//b\n",
        "print(c)"
      ],
      "metadata": {
        "colab": {
          "base_uri": "https://localhost:8080/"
        },
        "id": "Z0w_Dofcil-u",
        "outputId": "6ad5a1b1-789f-4d6d-ce23-00bfaf28861d"
      },
      "execution_count": 11,
      "outputs": [
        {
          "output_type": "stream",
          "name": "stdout",
          "text": [
            "5\n"
          ]
        }
      ]
    },
    {
      "cell_type": "code",
      "source": [
        "# **(Power Operator)\n",
        "a=10\n",
        "b=3\n",
        "c=a**b\n",
        "print(c)"
      ],
      "metadata": {
        "colab": {
          "base_uri": "https://localhost:8080/"
        },
        "id": "Tx-HnZRGjGPo",
        "outputId": "71df90ef-2b6a-40c8-c89d-b10c87e90a89"
      },
      "execution_count": 12,
      "outputs": [
        {
          "output_type": "stream",
          "name": "stdout",
          "text": [
            "1000\n"
          ]
        }
      ]
    },
    {
      "cell_type": "code",
      "source": [
        "# Create a list of length 10 of your choice containing multiple types of data. Using for loop print the element and its data type.\n",
        "list=[1,2,3.5,4,5,\"shally\",4+7j,6,7,8]\n",
        "for i in list:\n",
        "  print(i)\n",
        "  print(type(i))\n"
      ],
      "metadata": {
        "colab": {
          "base_uri": "https://localhost:8080/"
        },
        "id": "WZxluOBGjTft",
        "outputId": "4016801c-c492-4cb3-89dc-59a5d7784834"
      },
      "execution_count": 13,
      "outputs": [
        {
          "output_type": "stream",
          "name": "stdout",
          "text": [
            "1\n",
            "<class 'int'>\n",
            "2\n",
            "<class 'int'>\n",
            "3.5\n",
            "<class 'float'>\n",
            "4\n",
            "<class 'int'>\n",
            "5\n",
            "<class 'int'>\n",
            "shally\n",
            "<class 'str'>\n",
            "(4+7j)\n",
            "<class 'complex'>\n",
            "6\n",
            "<class 'int'>\n",
            "7\n",
            "<class 'int'>\n",
            "8\n",
            "<class 'int'>\n"
          ]
        }
      ]
    },
    {
      "cell_type": "code",
      "source": [
        "#Using a while loop, verify if the number A is purely divisible by number B and if so then how many times it can be divisible.\n",
        "A = int(input(\"Enter the number A: \"))\n",
        "B = int(input(\"Enter the number B: \"))\n",
        "\n",
        "# Initialize a counter to keep track of divisions\n",
        "count = 0\n",
        "\n",
        "while A >= B:\n",
        "    A = A - B  # Subtract B from A\n",
        "    count += 1  # Increment the counter\n",
        "\n",
        "if count > 0:\n",
        "    print(f\"{B} is divisible by {A} {count} times.\")\n",
        "else:\n",
        "    print(f\"{B} is not divisible by {A}.\")\n"
      ],
      "metadata": {
        "colab": {
          "base_uri": "https://localhost:8080/"
        },
        "id": "W3YHgNVImay3",
        "outputId": "8795a920-0ba5-427d-a106-0b45269adb7e"
      },
      "execution_count": 35,
      "outputs": [
        {
          "output_type": "stream",
          "name": "stdout",
          "text": [
            "Enter the number A: 34\n",
            "Enter the number B: 68\n",
            "68 is not divisible by 34.\n"
          ]
        }
      ]
    },
    {
      "cell_type": "code",
      "source": [
        "#Create a list containing 25 int type data. Using for loop and if-else condition print if the element is divisible by 3 or not.\n",
        "list=[1,2,3,4,5,6,7,8,9,10,11,12,13,14,15,16,17,18,19,20,21,22,23,24,25]\n",
        "for i in list:\n",
        "  if(i % 3 == 0):\n",
        "    print(\"The element is divisible by 3\")\n",
        "  else:\n",
        "    print(\"The element is not divisible by 3\")\n",
        "\n",
        "\n",
        "\n",
        "\n",
        "\n",
        "\n"
      ],
      "metadata": {
        "colab": {
          "base_uri": "https://localhost:8080/"
        },
        "id": "6MHN-wFTnBR-",
        "outputId": "49e52f25-b101-4410-b7ff-c63fb547eba9"
      },
      "execution_count": 34,
      "outputs": [
        {
          "output_type": "stream",
          "name": "stdout",
          "text": [
            "The element is not divisible by 3\n",
            "The element is not divisible by 3\n",
            "The element is divisible by 3\n",
            "The element is not divisible by 3\n",
            "The element is not divisible by 3\n",
            "The element is divisible by 3\n",
            "The element is not divisible by 3\n",
            "The element is not divisible by 3\n",
            "The element is divisible by 3\n",
            "The element is not divisible by 3\n",
            "The element is not divisible by 3\n",
            "The element is divisible by 3\n",
            "The element is not divisible by 3\n",
            "The element is not divisible by 3\n",
            "The element is divisible by 3\n",
            "The element is not divisible by 3\n",
            "The element is not divisible by 3\n",
            "The element is divisible by 3\n",
            "The element is not divisible by 3\n",
            "The element is not divisible by 3\n",
            "The element is divisible by 3\n",
            "The element is not divisible by 3\n",
            "The element is not divisible by 3\n",
            "The element is divisible by 3\n",
            "The element is not divisible by 3\n"
          ]
        }
      ]
    },
    {
      "cell_type": "code",
      "source": [
        "# What do you understand about mutable and immutable data types? Give examples for both showing this property.\n",
        "# Immutable data types cannot be modified\n",
        "# Example of Immutable Data types\n",
        "s=\"Shally\"\n",
        "y=\"Nagfase\"\n",
        "s=y\n",
        "print(s)\n",
        "print(y)"
      ],
      "metadata": {
        "colab": {
          "base_uri": "https://localhost:8080/"
        },
        "id": "TMwqt48zpr88",
        "outputId": "a87bec4a-2e3c-420a-94d4-6d9c4ea985dc"
      },
      "execution_count": 38,
      "outputs": [
        {
          "output_type": "stream",
          "name": "stdout",
          "text": [
            "Nagfase\n",
            "Nagfase\n"
          ]
        }
      ]
    },
    {
      "cell_type": "code",
      "source": [
        "# Example of mutable Data types\n",
        "# Mutable data types can be modified\n",
        "list=[1,2,3,4,\"shally\",5,6,7,8]\n",
        "print(list)\n",
        "list.append(9)\n",
        "print(list)\n",
        "list.remove(6)\n",
        "print(list)\n"
      ],
      "metadata": {
        "colab": {
          "base_uri": "https://localhost:8080/"
        },
        "id": "gDsPDP_vqx1W",
        "outputId": "3e57430e-4dac-4ff3-c957-f32f37eb276a"
      },
      "execution_count": 43,
      "outputs": [
        {
          "output_type": "stream",
          "name": "stdout",
          "text": [
            "[1, 2, 3, 4, 'shally', 5, 6, 7, 8]\n",
            "[1, 2, 3, 4, 'shally', 5, 6, 7, 8, 9]\n",
            "[1, 2, 3, 4, 'shally', 5, 7, 8, 9]\n"
          ]
        }
      ]
    }
  ]
}